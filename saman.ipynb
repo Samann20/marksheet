{
  "nbformat": 4,
  "nbformat_minor": 0,
  "metadata": {
    "colab": {
      "provenance": []
    },
    "kernelspec": {
      "name": "python3",
      "display_name": "Python 3"
    },
    "language_info": {
      "name": "python"
    }
  },
  "cells": [
    {
      "cell_type": "code",
      "execution_count": 1,
      "metadata": {
        "colab": {
          "base_uri": "https://localhost:8080/"
        },
        "id": "eI7ECYL5VrCS",
        "outputId": "45903f0b-2f9c-4914-beaf-c7fc59ea9bfa"
      },
      "outputs": [
        {
          "output_type": "stream",
          "name": "stdout",
          "text": [
            "Enter student name: Saman\n",
            "Enter marks in Maths: 85\n",
            "Enter marks in Physics: 79\n",
            "Enter marks in Chemistry: 98\n",
            "Enter marks in English: 67\n",
            "\n",
            "--------- Marksheet ---------\n",
            "Student Name: Saman\n",
            "Maths: 85.0\n",
            "Physics: 79.0\n",
            "Chemistry: 98.0\n",
            "English: 67.0\n",
            "Total Marks: 329.0\n",
            "Percentage: 82.25\n",
            "Grade: A\n"
          ]
        }
      ],
      "source": [
        "# Taking input from user\n",
        "name = input(\"Enter student name: \")\n",
        "maths = float(input(\"Enter marks in Maths: \"))\n",
        "physics = float(input(\"Enter marks in Physics: \"))\n",
        "chemistry = float(input(\"Enter marks in Chemistry: \"))\n",
        "english = float(input(\"Enter marks in English: \"))\n",
        "\n",
        "# Calculating total marks and percentage\n",
        "total_marks = maths + physics + chemistry + english\n",
        "percentage = (total_marks / 400) * 100\n",
        "\n",
        "# Determining grade based on percentage\n",
        "if percentage >= 90:\n",
        "    grade = 'A+'\n",
        "elif percentage >= 80:\n",
        "    grade = 'A'\n",
        "elif percentage >= 70:\n",
        "    grade = 'B'\n",
        "elif percentage >= 60:\n",
        "    grade = 'C'\n",
        "elif percentage >= 50:\n",
        "    grade = 'D'\n",
        "else:\n",
        "    grade = 'Fail'\n",
        "\n",
        "# Printing marksheet\n",
        "print(\"\\n--------- Marksheet ---------\")\n",
        "print(\"Student Name:\", name)\n",
        "print(\"Maths:\", maths)\n",
        "print(\"Physics:\", physics)\n",
        "print(\"Chemistry:\", chemistry)\n",
        "print(\"English:\", english)\n",
        "print(\"Total Marks:\", total_marks)\n",
        "print(\"Percentage:\", percentage)\n",
        "print(\"Grade:\", grade)"
      ]
    }
  ]
}